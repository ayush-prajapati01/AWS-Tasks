{
 "cells": [
  {
   "cell_type": "markdown",
   "metadata": {},
   "source": [
    "<br>\n",
    "@Author: Ayush Prajapati<br>\n",
    "@Date: 12-09-2024<br>\n",
    "@Last Modified by: Ayush Prajapati<br>\n",
    "@Last Modified time: 12-09-2024<br>\n",
    "@Title: S3 CRUD operations using Lambda Boto3 Library<br>"
   ]
  },
  {
   "cell_type": "code",
   "execution_count": null,
   "metadata": {},
   "outputs": [],
   "source": [
    "import boto3\n",
    "import json\n",
    "import logging\n"
   ]
  },
  {
   "cell_type": "markdown",
   "metadata": {},
   "source": [
    "**Initialize S3 client**"
   ]
  },
  {
   "cell_type": "code",
   "execution_count": null,
   "metadata": {},
   "outputs": [],
   "source": [
    "\n",
    "s3 = boto3.client('s3')"
   ]
  },
  {
   "cell_type": "markdown",
   "metadata": {},
   "source": [
    "**Set up logging**"
   ]
  },
  {
   "cell_type": "code",
   "execution_count": null,
   "metadata": {},
   "outputs": [],
   "source": [
    "logger = logging.getLogger()\n",
    "logger.setLevel(logging.INFO)"
   ]
  },
  {
   "cell_type": "markdown",
   "metadata": {},
   "source": [
    "### Crud Operations"
   ]
  },
  {
   "cell_type": "markdown",
   "metadata": {},
   "source": [
    "**Create function**"
   ]
  },
  {
   "cell_type": "code",
   "execution_count": null,
   "metadata": {},
   "outputs": [],
   "source": [
    "def create_file(bucket_name, object_key, content):\n",
    "    try:\n",
    "        s3.put_object(Bucket=bucket_name, Key=object_key, Body=content)\n",
    "        logger.info(f\"File {object_key} uploaded to {bucket_name}\")\n",
    "        return {\n",
    "            'statusCode': 200,\n",
    "            'body': json.dumps(f'File {object_key} successfully uploaded to {bucket_name}')\n",
    "        }\n",
    "    except Exception as e:\n",
    "        logger.error(f\"Error uploading file: {str(e)}\")\n",
    "        return {\n",
    "            'statusCode': 500,\n",
    "            'body': json.dumps(f'Error: {str(e)}')\n",
    "        }"
   ]
  },
  {
   "cell_type": "markdown",
   "metadata": {},
   "source": [
    "**Read File**"
   ]
  },
  {
   "cell_type": "code",
   "execution_count": null,
   "metadata": {},
   "outputs": [],
   "source": [
    "def read_file(bucket_name, object_key):\n",
    "    try:\n",
    "        response = s3.get_object(Bucket=bucket_name, Key=object_key)\n",
    "        content = response['Body'].read().decode('utf-8')\n",
    "        logger.info(f\"File {object_key} read from {bucket_name}\")\n",
    "        return {\n",
    "            'statusCode': 200,\n",
    "            'body': json.dumps(f'File content: {content}')\n",
    "        }\n",
    "    except Exception as e:\n",
    "        logger.error(f\"Error reading file: {str(e)}\")\n",
    "        return {\n",
    "            'statusCode': 500,\n",
    "            'body': json.dumps(f'Error: {str(e)}')\n",
    "        }"
   ]
  },
  {
   "cell_type": "markdown",
   "metadata": {},
   "source": [
    "**Update function**"
   ]
  },
  {
   "cell_type": "code",
   "execution_count": null,
   "metadata": {},
   "outputs": [],
   "source": [
    "def update_file(bucket_name, object_key, new_content):\n",
    "    try:\n",
    "        s3.put_object(Bucket=bucket_name, Key=object_key, Body=new_content)\n",
    "        logger.info(f\"File {object_key} updated in {bucket_name}\")\n",
    "        return {\n",
    "            'statusCode': 200,\n",
    "            'body': json.dumps(f'File {object_key} successfully updated in {bucket_name}')\n",
    "        }\n",
    "    except Exception as e:\n",
    "        logger.error(f\"Error updating file: {str(e)}\")\n",
    "        return {\n",
    "            'statusCode': 500,\n",
    "            'body': json.dumps(f'Error: {str(e)}')\n",
    "        }\n"
   ]
  },
  {
   "cell_type": "markdown",
   "metadata": {},
   "source": [
    "**Delete function**"
   ]
  },
  {
   "cell_type": "code",
   "execution_count": null,
   "metadata": {},
   "outputs": [],
   "source": [
    "def delete_file(bucket_name, object_key):\n",
    "    try:\n",
    "        s3.delete_object(Bucket=bucket_name, Key=object_key)\n",
    "        logger.info(f\"File {object_key} deleted from {bucket_name}\")\n",
    "        return {\n",
    "            'statusCode': 200,\n",
    "            'body': json.dumps(f'File {object_key} successfully deleted from {bucket_name}')\n",
    "        }\n",
    "    except Exception as e:\n",
    "        logger.error(f\"Error deleting file: {str(e)}\")\n",
    "        return {\n",
    "            'statusCode': 500,\n",
    "            'body': json.dumps(f'Error: {str(e)}')\n",
    "        }"
   ]
  },
  {
   "cell_type": "markdown",
   "metadata": {},
   "source": [
    "**Lambda handler**"
   ]
  },
  {
   "cell_type": "code",
   "execution_count": null,
   "metadata": {},
   "outputs": [],
   "source": [
    "def lambda_handler(event, context):\n",
    "    bucket_name = 'ayush-boto-crud-bucket'\n",
    "    object_key = event.get('object_key')\n",
    "    action = event.get('action')\n",
    "\n",
    "    if not object_key or not action:\n",
    "        return {\n",
    "            'statusCode': 400,\n",
    "            'body': json.dumps('Missing object_key or action in the request')\n",
    "        }\n",
    "\n",
    "    # Call the appropriate function based on the action\n",
    "    try:\n",
    "        if action == 'create':\n",
    "            content = event.get('content', '')\n",
    "            return create_file(bucket_name, object_key, content)\n",
    "        elif action == 'read':\n",
    "            return read_file(bucket_name, object_key)\n",
    "        elif action == 'update':\n",
    "            new_content = event.get('new_content', '')\n",
    "            return update_file(bucket_name, object_key, new_content)\n",
    "        elif action == 'delete':\n",
    "            return delete_file(bucket_name, object_key)\n",
    "        else:\n",
    "            return {\n",
    "                'statusCode': 400,\n",
    "                'body': json.dumps('Invalid action specified')\n",
    "            }\n",
    "    except Exception as e:\n",
    "        logger.error(f\"Error in lambda_handler: {str(e)}\")\n",
    "        return {\n",
    "            'statusCode': 500,\n",
    "            'body': json.dumps(f'Error processing request: {str(e)}')\n",
    "        }\n"
   ]
  },
  {
   "cell_type": "markdown",
   "metadata": {},
   "source": [
    "### Test Events"
   ]
  },
  {
   "cell_type": "markdown",
   "metadata": {
    "vscode": {
     "languageId": "javascript"
    }
   },
   "source": [
    "ap-create-op-event\n",
    "\n",
    "{\n",
    "  \"action\": \"create\",\n",
    "  \"object_key\": \"demo/myfile.txt\",\n",
    "  \"content\": \"This is a test file. Created by Ayush Prajapati\"\n",
    "}"
   ]
  },
  {
   "cell_type": "markdown",
   "metadata": {},
   "source": [
    "ap-read-op-event\n",
    "\n",
    "{\n",
    "  \"action\": \"read\",\n",
    "  \"object_key\": \"demo/myfile.txt\"\n",
    "}"
   ]
  },
  {
   "cell_type": "markdown",
   "metadata": {},
   "source": [
    "ap-update-op-event\n",
    "\n",
    "{\n",
    "  \"action\": \"update\",\n",
    "  \"object_key\": \"demo/myfile.txt\",\n",
    "  \"new_content\": \"Updated file content. Updated by Ayush Prajapati\"\n",
    "}"
   ]
  },
  {
   "cell_type": "markdown",
   "metadata": {},
   "source": [
    "ap-delete-op-event\n",
    "\n",
    "{\n",
    "  \"action\": \"delete\",\n",
    "  \"object_key\": \"demo/myfile.txt\"\n",
    "}\n"
   ]
  }
 ],
 "metadata": {
  "kernelspec": {
   "display_name": "Python 3",
   "language": "python",
   "name": "python3"
  },
  "language_info": {
   "name": "python",
   "version": "3.10.12"
  }
 },
 "nbformat": 4,
 "nbformat_minor": 2
}
