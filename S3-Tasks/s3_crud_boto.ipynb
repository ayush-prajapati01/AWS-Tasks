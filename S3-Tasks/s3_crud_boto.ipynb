{
 "cells": [
  {
   "cell_type": "markdown",
   "metadata": {},
   "source": [
    "<br>\n",
    "@Author: Ayush Prajapati<br>\n",
    "@Date: 11-09-2024<br>\n",
    "@Last Modified by: Ayush Prajapati<br>\n",
    "@Last Modified time: 11-09-2024<br>\n",
    "@Title: S3 CRUD operations using Boto3 Library<br>\n",
    "<br>"
   ]
  },
  {
   "cell_type": "code",
   "execution_count": 1,
   "metadata": {},
   "outputs": [
    {
     "name": "stdout",
     "output_type": "stream",
     "text": [
      "Defaulting to user installation because normal site-packages is not writeable\n",
      "Requirement already satisfied: boto3 in /home/ayush/.local/lib/python3.10/site-packages (1.35.15)\n",
      "Requirement already satisfied: jmespath<2.0.0,>=0.7.1 in /home/ayush/.local/lib/python3.10/site-packages (from boto3) (1.0.1)\n",
      "Requirement already satisfied: s3transfer<0.11.0,>=0.10.0 in /home/ayush/.local/lib/python3.10/site-packages (from boto3) (0.10.2)\n",
      "Requirement already satisfied: botocore<1.36.0,>=1.35.15 in /home/ayush/.local/lib/python3.10/site-packages (from boto3) (1.35.15)\n",
      "Requirement already satisfied: python-dateutil<3.0.0,>=2.1 in /home/ayush/.local/lib/python3.10/site-packages (from botocore<1.36.0,>=1.35.15->boto3) (2.8.2)\n",
      "Requirement already satisfied: urllib3!=2.2.0,<3,>=1.25.4 in /usr/lib/python3/dist-packages (from botocore<1.36.0,>=1.35.15->boto3) (1.26.5)\n",
      "Requirement already satisfied: six>=1.5 in /usr/lib/python3/dist-packages (from python-dateutil<3.0.0,>=2.1->botocore<1.36.0,>=1.35.15->boto3) (1.16.0)\n",
      "Note: you may need to restart the kernel to use updated packages.\n"
     ]
    }
   ],
   "source": [
    "%pip install boto3"
   ]
  },
  {
   "cell_type": "code",
   "execution_count": 13,
   "metadata": {},
   "outputs": [],
   "source": [
    "import boto3\n",
    "from dotenv import load_dotenv\n",
    "from io import StringIO\n",
    "import pandas as pd"
   ]
  },
  {
   "cell_type": "code",
   "execution_count": 4,
   "metadata": {},
   "outputs": [
    {
     "data": {
      "text/plain": [
       "True"
      ]
     },
     "execution_count": 4,
     "metadata": {},
     "output_type": "execute_result"
    }
   ],
   "source": [
    "load_dotenv()"
   ]
  },
  {
   "cell_type": "markdown",
   "metadata": {},
   "source": [
    "## Configuring boto3 with s3"
   ]
  },
  {
   "cell_type": "markdown",
   "metadata": {},
   "source": [
    "**Create a boto3 client**"
   ]
  },
  {
   "cell_type": "code",
   "execution_count": 5,
   "metadata": {},
   "outputs": [],
   "source": [
    "s3 = boto3.client('s3')"
   ]
  },
  {
   "cell_type": "code",
   "execution_count": 6,
   "metadata": {},
   "outputs": [],
   "source": [
    "def create_s3_bucket(bucket_name, region = 'us-west-2'):\n",
    "    \"\"\"\n",
    "    Description:\n",
    "        Creates a s3 bucket in AWS\n",
    "    Parameters:\n",
    "        bucket_name = name of bucket\n",
    "        region = name of region(optional)\n",
    "    Returns:\n",
    "        None\n",
    "    \"\"\"\n",
    "    try:\n",
    "        s3.create_bucket(\n",
    "            Bucket=bucket_name,\n",
    "            CreateBucketConfiguration={\n",
    "                'LocationConstraint': region,\n",
    "            },\n",
    "        )\n",
    "        print(f'Bucket {bucket_name} created successfully.')\n",
    "        \n",
    "    except Exception as e:\n",
    "        print(f\"Error: {e}\")"
   ]
  },
  {
   "cell_type": "markdown",
   "metadata": {},
   "source": [
    "**Creating a bucket**"
   ]
  },
  {
   "cell_type": "code",
   "execution_count": 8,
   "metadata": {},
   "outputs": [
    {
     "name": "stdout",
     "output_type": "stream",
     "text": [
      "Bucket ayush-boto-crud-bucket created successfully.\n"
     ]
    }
   ],
   "source": [
    "create_s3_bucket('ayush-boto-crud-bucket')"
   ]
  },
  {
   "cell_type": "markdown",
   "metadata": {},
   "source": [
    "**List all buckets**"
   ]
  },
  {
   "cell_type": "code",
   "execution_count": 9,
   "metadata": {},
   "outputs": [
    {
     "name": "stdout",
     "output_type": "stream",
     "text": [
      "ayush-boto-crud-bucket\n",
      "ayush-demo-bucket1\n"
     ]
    }
   ],
   "source": [
    "response = s3.list_buckets()\n",
    "\n",
    "# Output bucket names\n",
    "for bucket in response['Buckets']:\n",
    "    print(bucket['Name'])"
   ]
  },
  {
   "cell_type": "markdown",
   "metadata": {},
   "source": [
    "## Python Crud Operations"
   ]
  },
  {
   "cell_type": "markdown",
   "metadata": {},
   "source": [
    "### Create Operation"
   ]
  },
  {
   "cell_type": "code",
   "execution_count": 10,
   "metadata": {},
   "outputs": [],
   "source": [
    "def upload_file_to_s3(bucket_name,file_name,s3_key):\n",
    "    \"\"\"\n",
    "    Description:\n",
    "        Upload a file to s3 bucket in AWS\n",
    "    Parameters:\n",
    "        bucket_name = name of bucket\n",
    "        file_name = name of file\n",
    "        s3_key = name of file in s3\n",
    "    Returns:\n",
    "        None\n",
    "    \"\"\"\n",
    "    try:\n",
    "        s3.upload_file(file_name, bucket_name, s3_key)\n",
    "        print(f\"File {file_name} uploaded successfully to {bucket_name}/{s3_key}\")\n",
    "    except Exception as e:\n",
    "        print(f\"Error uploading file: {e}\")"
   ]
  },
  {
   "cell_type": "code",
   "execution_count": 11,
   "metadata": {},
   "outputs": [
    {
     "name": "stdout",
     "output_type": "stream",
     "text": [
      "File demo_data.csv uploaded successfully to ayush-boto-crud-bucket/csv/demo_data.csv\n"
     ]
    }
   ],
   "source": [
    "def main():\n",
    "    bucket_name = 'ayush-boto-crud-bucket'\n",
    "    csv_file_name = 'demo_data.csv'\n",
    "    s3_key = 'csv/demo_data.csv'\n",
    "\n",
    "    upload_file_to_s3(bucket_name, csv_file_name, s3_key)\n",
    "\n",
    "\n",
    "if __name__ == '__main__':\n",
    "    main()"
   ]
  },
  {
   "cell_type": "markdown",
   "metadata": {},
   "source": [
    "## Read Operation"
   ]
  },
  {
   "cell_type": "code",
   "execution_count": 16,
   "metadata": {},
   "outputs": [],
   "source": [
    "def download_file_from_s3(bucket_name,s3_key,file_name):\n",
    "    \"\"\"\n",
    "    Description:\n",
    "        Download a file from s3 bucket in AWS to local\n",
    "    Parameters:\n",
    "        bucket_name = name of bucket\n",
    "        s3_key = name of file in s3\n",
    "        file_name = local name of file\n",
    "    Returns:\n",
    "        None\n",
    "    \"\"\"\n",
    "    try:\n",
    "        s3.download_file(bucket_name, s3_key, file_name)\n",
    "        print(f\"File {s3_key} downloaded successfully from {bucket_name} to {file_name}\")\n",
    "    except Exception as e:\n",
    "        print(f\"Error downloading file: {e}\")"
   ]
  },
  {
   "cell_type": "code",
   "execution_count": 19,
   "metadata": {},
   "outputs": [
    {
     "name": "stdout",
     "output_type": "stream",
     "text": [
      "CSV content:\n",
      "   id     name  age           city\n",
      "0   1    Alice   30       New York\n",
      "1   2      Bob   25  San Francisco\n",
      "2   3  Charlie   28    Los Angeles\n",
      "3   4     Dave   35        Chicago\n",
      "4   5      Eve   29        Houston\n",
      "5   6    Frank   33        Seattle\n",
      "6   7    Grace   32          Miami\n",
      "7   8     Hank   27         Boston\n",
      "\n",
      "Downloading file....\n",
      "File csv/demo_data.csv downloaded successfully from ayush-boto-crud-bucket to downloaded_data_from_s3.csv\n"
     ]
    }
   ],
   "source": [
    "def view_csv_from_s3(bucket_name, s3_key):\n",
    "    \"\"\"\n",
    "    Description:\n",
    "        View a csv file from s3 bucket in AWS to local\n",
    "    Parameters:\n",
    "        bucket_name = name of bucket\n",
    "        s3_key = name of file in s3\n",
    "    Returns:\n",
    "        None\n",
    "    \"\"\"\n",
    "    try:\n",
    "        # Fetch the file from S3\n",
    "        obj = s3.get_object(Bucket=bucket_name, Key=s3_key)\n",
    "        csv_content = obj['Body'].read().decode('utf-8')\n",
    "        \n",
    "        # Use StringIO to treat the string as a file\n",
    "        csv_string_io = StringIO(csv_content)\n",
    "        \n",
    "        df = pd.read_csv(csv_string_io)\n",
    "        print(\"CSV content:\")\n",
    "        print(df)\n",
    "        \n",
    "    except Exception as e:\n",
    "        print(f\"Error reading file from S3: {e}\")\n",
    "\n",
    "\n",
    "def main():\n",
    "    bucket_name = 'ayush-boto-crud-bucket'\n",
    "    s3_key = 'csv/demo_data.csv'\n",
    "\n",
    "    # To directly view the csv without downloading\n",
    "    view_csv_from_s3(bucket_name, s3_key)\n",
    "\n",
    "    # To download the file\n",
    "    print(\"\\nDownloading file....\")\n",
    "    download_file_from_s3(bucket_name, s3_key, 'data_from_s3.csv')\n",
    "\n",
    "\n",
    "if __name__ == '__main__':\n",
    "    main()\n"
   ]
  },
  {
   "cell_type": "markdown",
   "metadata": {},
   "source": [
    "## Update Operation"
   ]
  },
  {
   "cell_type": "code",
   "execution_count": 25,
   "metadata": {},
   "outputs": [
    {
     "name": "stdout",
     "output_type": "stream",
     "text": [
      "File demo_data.csv uploaded successfully to ayush-boto-crud-bucket/csv/demo_data.csv\n",
      "File demo_data.csv updated and uploaded to ayush-boto-crud-bucket/csv/demo_data.csv\n"
     ]
    }
   ],
   "source": [
    "def update_file_in_s3(file_name, bucket_name,s3_key):\n",
    "    \"\"\"\n",
    "    Description:\n",
    "        Mdify file in s3 bucket in AWS \n",
    "    Parameters:\n",
    "        file_name: local name of file\n",
    "        bucket_name = name of bucket\n",
    "        s3_key = name of file in s3\n",
    "    Returns:\n",
    "        None\n",
    "    \"\"\"\n",
    "    # Modify the file locally before re-uploading\n",
    "    with open(file_name, 'a') as file:\n",
    "        file.write(\"9,Isaac,40,Denver\\n\")\n",
    "    \n",
    "    # Re-upload the updated file\n",
    "    upload_file_to_s3(bucket_name, file_name, s3_key)\n",
    "    print(f\"File {file_name} updated and uploaded to {bucket_name}/{s3_key}\")\n",
    "\n",
    "\n",
    "def main():\n",
    "    file_name = 'demo_data.csv'\n",
    "    bucket_name = 'ayush-boto-crud-bucket'\n",
    "    s3_key = 'csv/demo_data.csv'\n",
    "\n",
    "    # updating file\n",
    "    update_file_in_s3(file_name, bucket_name, s3_key)\n",
    "\n",
    "\n",
    "if __name__ == '__main__':\n",
    "    main()"
   ]
  },
  {
   "cell_type": "markdown",
   "metadata": {},
   "source": [
    "## Delete Operation"
   ]
  },
  {
   "cell_type": "code",
   "execution_count": 26,
   "metadata": {},
   "outputs": [
    {
     "name": "stdout",
     "output_type": "stream",
     "text": [
      "File csv/demo_data.csv deleted successfully from ayush-boto-crud-bucket\n"
     ]
    }
   ],
   "source": [
    "def delete_file_from_s3(bucket_name, s3_key):\n",
    "    \"\"\"\n",
    "    Description:\n",
    "        Delete file in s3 bucket in AWS \n",
    "    Parameters:\n",
    "        file_name: local name of file\n",
    "        bucket_name = name of bucket\n",
    "        s3_key = name of file in s3\n",
    "    Returns:\n",
    "        None\n",
    "    \"\"\"\n",
    "    try:\n",
    "        s3.delete_object(Bucket=bucket_name, Key=s3_key)\n",
    "        print(f\"File {s3_key} deleted successfully from {bucket_name}\")\n",
    "    except Exception as e:\n",
    "        print(f\"Error deleting file: {e}\")\n",
    "\n",
    "\n",
    "def main():\n",
    "    bucket_name = 'ayush-boto-crud-bucket'\n",
    "    s3_key = 'csv/demo_data.csv'\n",
    "\n",
    "    # deleting file\n",
    "    delete_file_from_s3(bucket_name, s3_key)\n",
    "\n",
    "\n",
    "if __name__ == '__main__':\n",
    "    main()"
   ]
  },
  {
   "cell_type": "markdown",
   "metadata": {},
   "source": [
    "**Closing Connections**"
   ]
  },
  {
   "cell_type": "code",
   "execution_count": 27,
   "metadata": {},
   "outputs": [],
   "source": [
    "s3.close()"
   ]
  }
 ],
 "metadata": {
  "kernelspec": {
   "display_name": "Python 3",
   "language": "python",
   "name": "python3"
  },
  "language_info": {
   "codemirror_mode": {
    "name": "ipython",
    "version": 3
   },
   "file_extension": ".py",
   "mimetype": "text/x-python",
   "name": "python",
   "nbconvert_exporter": "python",
   "pygments_lexer": "ipython3",
   "version": "3.10.12"
  }
 },
 "nbformat": 4,
 "nbformat_minor": 2
}
