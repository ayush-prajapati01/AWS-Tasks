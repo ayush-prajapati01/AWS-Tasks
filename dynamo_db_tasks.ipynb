{
 "cells": [
  {
   "cell_type": "markdown",
   "metadata": {},
   "source": [
    "<br>\n",
    "@Author: Ayush Prajapati<br>\n",
    "@Date: 13-09-2024<br>\n",
    "@Last Modified by: Ayush Prajapati<br>\n",
    "@Last Modified time: 14-09-2024<br>\n",
    "@Title: Dynamo DB CRUD operations using Boto3 Library on AWS<br>"
   ]
  },
  {
   "cell_type": "markdown",
   "metadata": {},
   "source": [
    "**Install `boto3`**"
   ]
  },
  {
   "cell_type": "code",
   "execution_count": 30,
   "metadata": {},
   "outputs": [
    {
     "name": "stdout",
     "output_type": "stream",
     "text": [
      "Defaulting to user installation because normal site-packages is not writeable\n",
      "Requirement already satisfied: boto3 in /home/ayush/.local/lib/python3.10/site-packages (1.35.15)\n",
      "Requirement already satisfied: botocore<1.36.0,>=1.35.15 in /home/ayush/.local/lib/python3.10/site-packages (from boto3) (1.35.15)\n",
      "Requirement already satisfied: s3transfer<0.11.0,>=0.10.0 in /home/ayush/.local/lib/python3.10/site-packages (from boto3) (0.10.2)\n",
      "Requirement already satisfied: jmespath<2.0.0,>=0.7.1 in /home/ayush/.local/lib/python3.10/site-packages (from boto3) (1.0.1)\n",
      "Requirement already satisfied: python-dateutil<3.0.0,>=2.1 in /home/ayush/.local/lib/python3.10/site-packages (from botocore<1.36.0,>=1.35.15->boto3) (2.8.2)\n",
      "Requirement already satisfied: urllib3!=2.2.0,<3,>=1.25.4 in /usr/lib/python3/dist-packages (from botocore<1.36.0,>=1.35.15->boto3) (1.26.5)\n",
      "Requirement already satisfied: six>=1.5 in /usr/lib/python3/dist-packages (from python-dateutil<3.0.0,>=2.1->botocore<1.36.0,>=1.35.15->boto3) (1.16.0)\n",
      "Note: you may need to restart the kernel to use updated packages.\n"
     ]
    }
   ],
   "source": [
    "%pip install boto3"
   ]
  },
  {
   "cell_type": "markdown",
   "metadata": {},
   "source": [
    "**Import the Library**"
   ]
  },
  {
   "cell_type": "code",
   "execution_count": 1,
   "metadata": {},
   "outputs": [],
   "source": [
    "import boto3\n",
    "from botocore.exceptions import ClientError"
   ]
  },
  {
   "cell_type": "markdown",
   "metadata": {},
   "source": [
    "**Create a DynamoDB Client**"
   ]
  },
  {
   "cell_type": "code",
   "execution_count": 2,
   "metadata": {},
   "outputs": [],
   "source": [
    "dynamodb = boto3.resource('dynamodb', region_name='ap-south-1')\n",
    "table = dynamodb.Table('ap-demo-table')"
   ]
  },
  {
   "cell_type": "markdown",
   "metadata": {},
   "source": [
    "### CRUD Operations"
   ]
  },
  {
   "cell_type": "markdown",
   "metadata": {},
   "source": [
    "**Create (Insert Item)**"
   ]
  },
  {
   "cell_type": "code",
   "execution_count": 4,
   "metadata": {},
   "outputs": [],
   "source": [
    "def create_item(id, location, name, age, phone_number):\n",
    "    try:\n",
    "        response = table.put_item(\n",
    "            Item={\n",
    "                'id': id, \n",
    "                'location': location,  \n",
    "                'Name': name,\n",
    "                'Age': age,\n",
    "                'Phone-Number': phone_number\n",
    "            }\n",
    "        )\n",
    "        print(\"Item created:\", response)\n",
    "    except ClientError as e:\n",
    "        print(\"Error creating item:\", e.response['Error']['Message'])\n"
   ]
  },
  {
   "cell_type": "code",
   "execution_count": 5,
   "metadata": {},
   "outputs": [
    {
     "name": "stdout",
     "output_type": "stream",
     "text": [
      "Item created: {'ResponseMetadata': {'RequestId': 'G3Q6BJSL5LSTOP1604LE1ET1K3VV4KQNSO5AEMVJF66Q9ASUAAJG', 'HTTPStatusCode': 200, 'HTTPHeaders': {'server': 'Server', 'date': 'Sat, 14 Sep 2024 07:41:05 GMT', 'content-type': 'application/x-amz-json-1.0', 'content-length': '2', 'connection': 'keep-alive', 'x-amzn-requestid': 'G3Q6BJSL5LSTOP1604LE1ET1K3VV4KQNSO5AEMVJF66Q9ASUAAJG', 'x-amz-crc32': '2745614147'}, 'RetryAttempts': 0}}\n"
     ]
    }
   ],
   "source": [
    "def main():\n",
    "    while True:\n",
    "        try:\n",
    "            id = int(input(\"Enter id: \"))\n",
    "            name = input(\"Enter the name: \")\n",
    "            age = int(input(\"Enter the age: \"))\n",
    "            phone_number = int(input(\"Enter the phone number: \"))\n",
    "            location = input(\"Enter the location: \")\n",
    "            break\n",
    "        except:\n",
    "            print(\"Enter proper values\")\n",
    "    \n",
    "    create_item(id, location, name, age, phone_number)\n",
    "\n",
    "\n",
    "if __name__ == '__main__':\n",
    "    main()"
   ]
  },
  {
   "cell_type": "markdown",
   "metadata": {},
   "source": [
    "**Read (Get Item)**"
   ]
  },
  {
   "cell_type": "code",
   "execution_count": 6,
   "metadata": {},
   "outputs": [],
   "source": [
    "def read_item(partition_key, sort_key):\n",
    "    try:\n",
    "        response = table.get_item(\n",
    "            Key={\n",
    "                'id': partition_key,\n",
    "                'location': sort_key\n",
    "            }\n",
    "        )\n",
    "        item = response.get('Item')\n",
    "        if item:\n",
    "            print(\"Item retrieved:\", item)\n",
    "        else:\n",
    "            print(\"Item not found.\")\n",
    "    except ClientError as e:\n",
    "        print(\"Error reading item:\", e.response['Error']['Message'])\n"
   ]
  },
  {
   "cell_type": "code",
   "execution_count": 20,
   "metadata": {},
   "outputs": [
    {
     "name": "stdout",
     "output_type": "stream",
     "text": [
      "Item retrieved: {'Phone-Number': Decimal('1111111111'), 'location': 'Mumbai', 'id': Decimal('1'), 'Age': Decimal('21'), 'Name': 'Ayush'}\n"
     ]
    }
   ],
   "source": [
    "def main():\n",
    "    while True:\n",
    "        try:\n",
    "            id = int(input(\"Enter id (PartitionKey): \"))\n",
    "            location = input(\"Enter Location (SortKey):: \")\n",
    "            break\n",
    "        except:\n",
    "            print(\"Enter proper values\")\n",
    "    \n",
    "    read_item(id, location)\n",
    "\n",
    "\n",
    "if __name__ == '__main__':\n",
    "    main()"
   ]
  },
  {
   "cell_type": "markdown",
   "metadata": {},
   "source": [
    "**Update (Modify Item)**"
   ]
  },
  {
   "cell_type": "code",
   "execution_count": 7,
   "metadata": {},
   "outputs": [],
   "source": [
    "def update_item(partition_key, sort_key, attribute_name, new_value):\n",
    "    try:\n",
    "        response = table.update_item(\n",
    "            Key={\n",
    "                'id': partition_key,\n",
    "                'location': sort_key\n",
    "            },\n",
    "            UpdateExpression=f'SET #attr_name = :val',\n",
    "            ExpressionAttributeNames={\n",
    "                '#attr_name': attribute_name  \n",
    "            },\n",
    "            ExpressionAttributeValues={\n",
    "                ':val': new_value\n",
    "            }\n",
    "        )\n",
    "        print(\"Item updated:\", response)\n",
    "    except ClientError as e:\n",
    "        print(\"Error updating item:\", e.response['Error']['Message'])\n"
   ]
  },
  {
   "cell_type": "code",
   "execution_count": 27,
   "metadata": {},
   "outputs": [
    {
     "name": "stdout",
     "output_type": "stream",
     "text": [
      "Item updated: {'ResponseMetadata': {'RequestId': 'U44EI6B76TM621RLUP8J9BLVA3VV4KQNSO5AEMVJF66Q9ASUAAJG', 'HTTPStatusCode': 200, 'HTTPHeaders': {'server': 'Server', 'date': 'Sat, 14 Sep 2024 07:31:05 GMT', 'content-type': 'application/x-amz-json-1.0', 'content-length': '2', 'connection': 'keep-alive', 'x-amzn-requestid': 'U44EI6B76TM621RLUP8J9BLVA3VV4KQNSO5AEMVJF66Q9ASUAAJG', 'x-amz-crc32': '2745614147'}, 'RetryAttempts': 0}}\n"
     ]
    }
   ],
   "source": [
    "def main():\n",
    "    while True:\n",
    "        try:\n",
    "            partition_key = int(input(\"Enter id (PartitionKey): \"))  \n",
    "            sort_key = input(\"Enter location (SortKey): \") \n",
    "            attribute_name = input(\"Enter the attribute to update (e.g., Name, Age, Phone-Number): \")\n",
    "\n",
    "            # Asking for the new value and type\n",
    "            attribute_type = input(\"Is the new value a string (s) or number (n)? \").lower()\n",
    "            \n",
    "            if attribute_type == 'n':\n",
    "                new_value = int(input(\"Enter the new numeric value: \"))  \n",
    "            else:\n",
    "                new_value = input(\"Enter the new string value: \")  \n",
    "            \n",
    "            break\n",
    "        except ValueError:\n",
    "            print(\"Please enter valid values.\")\n",
    "    \n",
    "    # Update the item\n",
    "    update_item(partition_key, sort_key, attribute_name, new_value)\n",
    "\n",
    "\n",
    "if __name__ == '__main__':\n",
    "    main()"
   ]
  },
  {
   "cell_type": "markdown",
   "metadata": {},
   "source": [
    "**Delete (Remove Item)**"
   ]
  },
  {
   "cell_type": "code",
   "execution_count": 8,
   "metadata": {},
   "outputs": [],
   "source": [
    "def delete_item(partition_key, sort_key):\n",
    "    try:\n",
    "        response = table.delete_item(\n",
    "            Key={\n",
    "                'id': partition_key,\n",
    "                'location': sort_key\n",
    "            }\n",
    "        )\n",
    "        print(\"Item deleted:\", response)\n",
    "    except ClientError as e:\n",
    "        print(\"Error deleting item:\", e.response['Error']['Message'])\n"
   ]
  },
  {
   "cell_type": "code",
   "execution_count": 29,
   "metadata": {},
   "outputs": [
    {
     "name": "stdout",
     "output_type": "stream",
     "text": [
      "Item deleted: {'ResponseMetadata': {'RequestId': '8SP5FFI6N1V63O0P3B71MVDU43VV4KQNSO5AEMVJF66Q9ASUAAJG', 'HTTPStatusCode': 200, 'HTTPHeaders': {'server': 'Server', 'date': 'Sat, 14 Sep 2024 07:34:02 GMT', 'content-type': 'application/x-amz-json-1.0', 'content-length': '2', 'connection': 'keep-alive', 'x-amzn-requestid': '8SP5FFI6N1V63O0P3B71MVDU43VV4KQNSO5AEMVJF66Q9ASUAAJG', 'x-amz-crc32': '2745614147'}, 'RetryAttempts': 0}}\n"
     ]
    }
   ],
   "source": [
    "def main():\n",
    "    while True:\n",
    "        try:\n",
    "            id = int(input(\"Enter id (PartitionKey): \"))\n",
    "            location = input(\"Enter Location (SortKey):: \")\n",
    "            break\n",
    "        except:\n",
    "            print(\"Enter proper values\")\n",
    "    \n",
    "    delete_item(id, location)\n",
    "\n",
    "\n",
    "if __name__ == '__main__':\n",
    "    main()"
   ]
  },
  {
   "cell_type": "markdown",
   "metadata": {},
   "source": [
    "### Advanced Operations"
   ]
  },
  {
   "cell_type": "markdown",
   "metadata": {},
   "source": [
    "**Batch Write (Create Multiple Items)**"
   ]
  },
  {
   "cell_type": "code",
   "execution_count": 9,
   "metadata": {},
   "outputs": [],
   "source": [
    "def batch_write(items):\n",
    "    try:\n",
    "        with table.batch_writer() as batch:\n",
    "            for item in items:\n",
    "                batch.put_item(Item=item)\n",
    "        print(\"Batch write completed.\")\n",
    "    except ClientError as e:\n",
    "        print(\"Error in batch write:\", e.response['Error']['Message'])"
   ]
  },
  {
   "cell_type": "code",
   "execution_count": 10,
   "metadata": {},
   "outputs": [
    {
     "name": "stdout",
     "output_type": "stream",
     "text": [
      "Batch write completed.\n"
     ]
    }
   ],
   "source": [
    "def main():\n",
    "    # Batch write example\n",
    "    items_to_write = [\n",
    "        {\n",
    "            'id': 3, \n",
    "            'location': 'Mumbai',  \n",
    "            'Name': 'Shiv',\n",
    "            'Age': 22,\n",
    "            'Phone-Number': 9292929292\n",
    "        },\n",
    "\n",
    "        {\n",
    "            'id': 4, \n",
    "            'location': 'Pune',  \n",
    "            'Name': 'Prayag',\n",
    "            'Age': 21,\n",
    "            'Phone-Number': 1231231231\n",
    "        },\n",
    "    ]\n",
    "    batch_write(items_to_write)\n",
    "\n",
    "\n",
    "if __name__ == '__main__':\n",
    "    main()"
   ]
  },
  {
   "cell_type": "markdown",
   "metadata": {},
   "source": [
    "**Batch Get (Read Multiple Items)**"
   ]
  },
  {
   "cell_type": "markdown",
   "metadata": {},
   "source": [
    "Note: for this operation we gonna need `boto3` client for `DynamoDb`"
   ]
  },
  {
   "cell_type": "code",
   "execution_count": 15,
   "metadata": {},
   "outputs": [],
   "source": [
    "dynamodb_client = boto3.client('dynamodb', region_name='ap-south-1')"
   ]
  },
  {
   "cell_type": "code",
   "execution_count": 20,
   "metadata": {},
   "outputs": [],
   "source": [
    "def batch_get(keys):\n",
    "    try:\n",
    "        response = dynamodb_client.batch_get_item(\n",
    "            RequestItems={\n",
    "                'ap-demo-table': {  # Replace with your actual table name\n",
    "                    'Keys': keys\n",
    "                }\n",
    "            }\n",
    "        )\n",
    "        # Print the entire response for debugging\n",
    "        print(\"Response:\", response)\n",
    "\n",
    "        items = response.get('Responses', {}).get('ap-demo-table', [])\n",
    "        print(\"Items retrieved:\", items)\n",
    "\n",
    "        # Check for unprocessed keys if any\n",
    "        unprocessed_keys = response.get('UnprocessedKeys')\n",
    "        if unprocessed_keys:\n",
    "            print(\"Unprocessed keys:\", unprocessed_keys)\n",
    "\n",
    "    except ClientError as e:\n",
    "        print(\"Error in batch get:\", e.response['Error']['Message'])\n"
   ]
  },
  {
   "cell_type": "code",
   "execution_count": 21,
   "metadata": {},
   "outputs": [
    {
     "name": "stdout",
     "output_type": "stream",
     "text": [
      "Response: {'Responses': {'ap-demo-table': [{'Phone-Number': {'N': '1111111111'}, 'location': {'S': 'Mumbai'}, 'id': {'N': '1'}, 'Age': {'N': '21'}, 'Name': {'S': 'Ayush Prajapati'}}, {'Phone-Number': {'N': '1231231231'}, 'location': {'S': 'Pune'}, 'id': {'N': '4'}, 'Age': {'N': '21'}, 'Name': {'S': 'Prayag'}}]}, 'UnprocessedKeys': {}, 'ResponseMetadata': {'RequestId': 'IJPCHR4I5S64LKR06J0G1FFFBNVV4KQNSO5AEMVJF66Q9ASUAAJG', 'HTTPStatusCode': 200, 'HTTPHeaders': {'server': 'Server', 'date': 'Sat, 14 Sep 2024 07:56:14 GMT', 'content-type': 'application/x-amz-json-1.0', 'content-length': '293', 'connection': 'keep-alive', 'x-amzn-requestid': 'IJPCHR4I5S64LKR06J0G1FFFBNVV4KQNSO5AEMVJF66Q9ASUAAJG', 'x-amz-crc32': '3932647276'}, 'RetryAttempts': 0}}\n",
      "Items retrieved: [{'Phone-Number': {'N': '1111111111'}, 'location': {'S': 'Mumbai'}, 'id': {'N': '1'}, 'Age': {'N': '21'}, 'Name': {'S': 'Ayush Prajapati'}}, {'Phone-Number': {'N': '1231231231'}, 'location': {'S': 'Pune'}, 'id': {'N': '4'}, 'Age': {'N': '21'}, 'Name': {'S': 'Prayag'}}]\n"
     ]
    }
   ],
   "source": [
    "def main():\n",
    "    # Batch get example\n",
    "    keys_to_get = [\n",
    "        {'id': {'N': '1'}, 'location': {'S': 'Mumbai'}},\n",
    "        {'id': {'N': '4'}, 'location': {'S': 'Pune'}}\n",
    "    ]\n",
    "    batch_get(keys_to_get)\n",
    "\n",
    "\n",
    "if __name__ == '__main__':\n",
    "    main()"
   ]
  },
  {
   "cell_type": "markdown",
   "metadata": {},
   "source": [
    "**Closing the client**"
   ]
  },
  {
   "cell_type": "code",
   "execution_count": 22,
   "metadata": {},
   "outputs": [],
   "source": [
    "dynamodb_client.close()"
   ]
  }
 ],
 "metadata": {
  "kernelspec": {
   "display_name": "Python 3",
   "language": "python",
   "name": "python3"
  },
  "language_info": {
   "codemirror_mode": {
    "name": "ipython",
    "version": 3
   },
   "file_extension": ".py",
   "mimetype": "text/x-python",
   "name": "python",
   "nbconvert_exporter": "python",
   "pygments_lexer": "ipython3",
   "version": "3.10.12"
  }
 },
 "nbformat": 4,
 "nbformat_minor": 2
}
